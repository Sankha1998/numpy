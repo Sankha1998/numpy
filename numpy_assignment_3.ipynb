{
  "nbformat": 4,
  "nbformat_minor": 0,
  "metadata": {
    "kernelspec": {
      "display_name": "Python 3",
      "language": "python",
      "name": "python3"
    },
    "language_info": {
      "codemirror_mode": {
        "name": "ipython",
        "version": 3
      },
      "file_extension": ".py",
      "mimetype": "text/x-python",
      "name": "python",
      "nbconvert_exporter": "python",
      "pygments_lexer": "ipython3",
      "version": "3.7.3"
    },
    "colab": {
      "name": "numpy_assignment_4.ipynb",
      "provenance": [],
      "collapsed_sections": []
    }
  },
  "cells": [
    {
      "cell_type": "code",
      "metadata": {
        "id": "CdZGvzjnXXU6",
        "colab_type": "code",
        "colab": {}
      },
      "source": [
        "import numpy as np"
      ],
      "execution_count": 0,
      "outputs": []
    },
    {
      "cell_type": "code",
      "metadata": {
        "id": "7WaPx-XMXXV2",
        "colab_type": "code",
        "outputId": "b2141530-665a-4c93-bdeb-8e08d51c6a6c",
        "colab": {
          "base_uri": "https://localhost:8080/",
          "height": 90
        }
      },
      "source": [
        "arr1=np.arange(20).reshape(4,5)\n",
        "arr1"
      ],
      "execution_count": 0,
      "outputs": [
        {
          "output_type": "execute_result",
          "data": {
            "text/plain": [
              "array([[ 0,  1,  2,  3,  4],\n",
              "       [ 5,  6,  7,  8,  9],\n",
              "       [10, 11, 12, 13, 14],\n",
              "       [15, 16, 17, 18, 19]])"
            ]
          },
          "metadata": {
            "tags": []
          },
          "execution_count": 20
        }
      ]
    },
    {
      "cell_type": "markdown",
      "metadata": {
        "id": "kNkICxjWXXWq",
        "colab_type": "text"
      },
      "source": [
        "## Q1.Write a numpy code to swap col1([0,5,10,15]) with col4([3,8,13,18])\n"
      ]
    },
    {
      "cell_type": "code",
      "metadata": {
        "id": "itP718L4XXW5",
        "colab_type": "code",
        "outputId": "cc2964dd-62a7-48b3-d211-8dc06db8d821",
        "colab": {
          "base_uri": "https://localhost:8080/",
          "height": 90
        }
      },
      "source": [
        "# without using fancy indexing\n",
        "arrx = np.copy(arr1)\n",
        "x = np.copy(arrx[:,0])\n",
        "arrx[:,0] = arrx[:,3]\n",
        "arrx[:,3] = x\n",
        "\n",
        "arrx\n"
      ],
      "execution_count": 0,
      "outputs": [
        {
          "output_type": "execute_result",
          "data": {
            "text/plain": [
              "array([[ 3,  1,  2,  0,  4],\n",
              "       [ 8,  6,  7,  5,  9],\n",
              "       [13, 11, 12, 10, 14],\n",
              "       [18, 16, 17, 15, 19]])"
            ]
          },
          "metadata": {
            "tags": []
          },
          "execution_count": 21
        }
      ]
    },
    {
      "cell_type": "code",
      "metadata": {
        "id": "HsbcYMkuXXXd",
        "colab_type": "code",
        "outputId": "98a73098-4c76-4b16-b84b-1c74d9ccf405",
        "colab": {
          "base_uri": "https://localhost:8080/",
          "height": 90
        }
      },
      "source": [
        "## using Fancy Indexing\n",
        "arry = np.copy(arr1)\n",
        "arry[:,[0,3]] = arry[:,[3,0]]\n",
        "arry"
      ],
      "execution_count": 0,
      "outputs": [
        {
          "output_type": "execute_result",
          "data": {
            "text/plain": [
              "array([[ 3,  1,  2,  0,  4],\n",
              "       [ 8,  6,  7,  5,  9],\n",
              "       [13, 11, 12, 10, 14],\n",
              "       [18, 16, 17, 15, 19]])"
            ]
          },
          "metadata": {
            "tags": []
          },
          "execution_count": 22
        }
      ]
    },
    {
      "cell_type": "markdown",
      "metadata": {
        "id": "13YnqTuNXXYB",
        "colab_type": "text"
      },
      "source": [
        "## Q2.Write a numpy code to reverse the rows of arr1\n",
        "#####  The output should be [15, 16, 17, 18, 19] as first row and [ 0,  1,  2,  3,  4] as last row"
      ]
    },
    {
      "cell_type": "code",
      "metadata": {
        "id": "Bn9Je2hnXXYO",
        "colab_type": "code",
        "outputId": "dde3b898-ecd8-4c59-f6fc-b17f3dac0670",
        "colab": {
          "base_uri": "https://localhost:8080/",
          "height": 109
        }
      },
      "source": [
        "## without fancy indexing\n",
        "l = [] # initilizing empty list\n",
        "i = len(arr1)-1 ## initizing loop variable \n",
        "while i>=0:\n",
        "    l.append(arr1[i,:]) \n",
        "    y = np.array(l)\n",
        "    i = i-1\n",
        "print(y)\n",
        "type(y)\n"
      ],
      "execution_count": 0,
      "outputs": [
        {
          "output_type": "stream",
          "text": [
            "[[15 16 17 18 19]\n",
            " [10 11 12 13 14]\n",
            " [ 5  6  7  8  9]\n",
            " [ 0  1  2  3  4]]\n"
          ],
          "name": "stdout"
        },
        {
          "output_type": "execute_result",
          "data": {
            "text/plain": [
              "numpy.ndarray"
            ]
          },
          "metadata": {
            "tags": []
          },
          "execution_count": 42
        }
      ]
    },
    {
      "cell_type": "code",
      "metadata": {
        "id": "gO2aBBdrtpOE",
        "colab_type": "code",
        "outputId": "2aa93da1-e0ba-4041-a9dc-de09efd10c04",
        "colab": {
          "base_uri": "https://localhost:8080/",
          "height": 90
        }
      },
      "source": [
        "## using fancy indexing\n",
        "arrt = np.copy(arr1)\n",
        "arrt[[0,1,2,3],:] = arrt[[3,2,1,0],:]\n",
        "arrt"
      ],
      "execution_count": 0,
      "outputs": [
        {
          "output_type": "execute_result",
          "data": {
            "text/plain": [
              "array([[15, 16, 17, 18, 19],\n",
              "       [10, 11, 12, 13, 14],\n",
              "       [ 5,  6,  7,  8,  9],\n",
              "       [ 0,  1,  2,  3,  4]])"
            ]
          },
          "metadata": {
            "tags": []
          },
          "execution_count": 44
        }
      ]
    },
    {
      "cell_type": "markdown",
      "metadata": {
        "id": "nPNqD78tXXYq",
        "colab_type": "text"
      },
      "source": [
        "## Q3.Write a code to replace all the nan(missing values) of arr2 with the mean of arr2"
      ]
    },
    {
      "cell_type": "code",
      "metadata": {
        "id": "ddgAppCTXXYv",
        "colab_type": "code",
        "outputId": "975c8edd-4b3c-47a6-e217-cde4184eac73",
        "colab": {
          "base_uri": "https://localhost:8080/",
          "height": 72
        }
      },
      "source": [
        "arr2=np.array([[1,2,np.nan],[4,5,6],[np.nan,np.nan,9]])\n",
        "arr2"
      ],
      "execution_count": 0,
      "outputs": [
        {
          "output_type": "execute_result",
          "data": {
            "text/plain": [
              "array([[ 1.,  2., nan],\n",
              "       [ 4.,  5.,  6.],\n",
              "       [nan, nan,  9.]])"
            ]
          },
          "metadata": {
            "tags": []
          },
          "execution_count": 24
        }
      ]
    },
    {
      "cell_type": "code",
      "metadata": {
        "id": "B8A1K86-XXY-",
        "colab_type": "code",
        "outputId": "d35702d4-5a6a-4426-875a-2c2ff52fc18a",
        "colab": {
          "base_uri": "https://localhost:8080/",
          "height": 72
        }
      },
      "source": [
        "\n",
        "arr2[np.isnan(arr2)] = np.nanmean(arr2)\n",
        "arr2"
      ],
      "execution_count": 0,
      "outputs": [
        {
          "output_type": "execute_result",
          "data": {
            "text/plain": [
              "array([[1. , 2. , 4.5],\n",
              "       [4. , 5. , 6. ],\n",
              "       [4.5, 4.5, 9. ]])"
            ]
          },
          "metadata": {
            "tags": []
          },
          "execution_count": 25
        }
      ]
    },
    {
      "cell_type": "markdown",
      "metadata": {
        "id": "RNOZUvRsXXZR",
        "colab_type": "text"
      },
      "source": [
        "## Q4.Write a code which can fetch all items from arr3 which are either greater than 25 or a multiple of 3"
      ]
    },
    {
      "cell_type": "code",
      "metadata": {
        "id": "y5cLf6dPXXZX",
        "colab_type": "code",
        "outputId": "1664a9e5-75fc-4550-a453-d8906ba63738",
        "colab": {
          "base_uri": "https://localhost:8080/",
          "height": 109
        }
      },
      "source": [
        "arr3=np.random.randint(low=1,high=100,size=20).reshape(5,4)\n",
        "arr3"
      ],
      "execution_count": 0,
      "outputs": [
        {
          "output_type": "execute_result",
          "data": {
            "text/plain": [
              "array([[85, 65, 39, 75],\n",
              "       [48, 72, 53, 38],\n",
              "       [75, 51, 31, 30],\n",
              "       [68, 23, 75, 63],\n",
              "       [ 1, 49, 42, 66]])"
            ]
          },
          "metadata": {
            "tags": []
          },
          "execution_count": 26
        }
      ]
    },
    {
      "cell_type": "code",
      "metadata": {
        "id": "B7nAPtcBXXZm",
        "colab_type": "code",
        "outputId": "738211e9-16c0-408c-f4a0-de4eaefa5b90",
        "colab": {
          "base_uri": "https://localhost:8080/",
          "height": 54
        }
      },
      "source": [
        "arr3[(arr3>25) | (arr3%3==0)]"
      ],
      "execution_count": 0,
      "outputs": [
        {
          "output_type": "execute_result",
          "data": {
            "text/plain": [
              "array([85, 65, 39, 75, 48, 72, 53, 38, 75, 51, 31, 30, 68, 75, 63, 49, 42,\n",
              "       66])"
            ]
          },
          "metadata": {
            "tags": []
          },
          "execution_count": 27
        }
      ]
    },
    {
      "cell_type": "markdown",
      "metadata": {
        "id": "lQfpZHtRXXZ4",
        "colab_type": "text"
      },
      "source": [
        "# Q5.Write a code to find the 10th, 25th, 50th(median) percentile of arr3\n",
        "##### Percentiles are a very important concept in Statistics. \n",
        "##### If you don't know about it refer the video below: https://www.youtube.com/watch?v=Snf6Wpn-L4c\n",
        "##### Hint: to solve this function google np.percentile()"
      ]
    },
    {
      "cell_type": "code",
      "metadata": {
        "id": "jmy9kN-_XXZ_",
        "colab_type": "code",
        "outputId": "b269fc97-e083-475a-abbc-7ae746786af1",
        "colab": {
          "base_uri": "https://localhost:8080/",
          "height": 72
        }
      },
      "source": [
        "print(\"10th percentile value is\",np.percentile(arr3,10))\n",
        "print(\"25th percentile value is\",np.percentile(arr3,25))\n",
        "print(\"50th percentile value is\",np.percentile(arr3,50))"
      ],
      "execution_count": 0,
      "outputs": [
        {
          "output_type": "stream",
          "text": [
            "10th percentile value is 29.3\n",
            "25th percentile value is 38.75\n",
            "50th percentile value is 52.0\n"
          ],
          "name": "stdout"
        }
      ]
    },
    {
      "cell_type": "code",
      "metadata": {
        "id": "OMIG0nobl-Br",
        "colab_type": "code",
        "colab": {}
      },
      "source": [
        ""
      ],
      "execution_count": 0,
      "outputs": []
    }
  ]
}